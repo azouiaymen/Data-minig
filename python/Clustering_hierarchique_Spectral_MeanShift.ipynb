{
 "cells": [
  {
   "cell_type": "markdown",
   "metadata": {},
   "source": [
    "### recuperation des données, initiaisation, et premier clustering hierarchique"
   ]
  },
  {
   "cell_type": "code",
   "execution_count": 20,
   "metadata": {},
   "outputs": [
    {
     "data": {
      "text/html": [
       "<div>\n",
       "<style scoped>\n",
       "    .dataframe tbody tr th:only-of-type {\n",
       "        vertical-align: middle;\n",
       "    }\n",
       "\n",
       "    .dataframe tbody tr th {\n",
       "        vertical-align: top;\n",
       "    }\n",
       "\n",
       "    .dataframe thead th {\n",
       "        text-align: right;\n",
       "    }\n",
       "</style>\n",
       "<table border=\"1\" class=\"dataframe\">\n",
       "  <thead>\n",
       "    <tr style=\"text-align: right;\">\n",
       "      <th></th>\n",
       "      <th>Unnamed: 0</th>\n",
       "      <th>trip_completed_at</th>\n",
       "      <th>trip_status</th>\n",
       "      <th>ride_hailing_app</th>\n",
       "      <th>trip_uid</th>\n",
       "      <th>driver_uid</th>\n",
       "      <th>rider_uid</th>\n",
       "      <th>customer</th>\n",
       "      <th>trip_start_time</th>\n",
       "      <th>trip_end_time</th>\n",
       "      <th>...</th>\n",
       "      <th>temperature_value</th>\n",
       "      <th>feels_like</th>\n",
       "      <th>humidity</th>\n",
       "      <th>wind_speed</th>\n",
       "      <th>cloudness</th>\n",
       "      <th>weather_main</th>\n",
       "      <th>weather_desc</th>\n",
       "      <th>precipitation</th>\n",
       "      <th>place_type</th>\n",
       "      <th>place_name</th>\n",
       "    </tr>\n",
       "  </thead>\n",
       "  <tbody>\n",
       "    <tr>\n",
       "      <th>0</th>\n",
       "      <td>0</td>\n",
       "      <td>May 11, 2015 at 6:55PM</td>\n",
       "      <td>Completed</td>\n",
       "      <td>Uber</td>\n",
       "      <td>ee89076fd9da9bddf5f096b0ca42f8d5</td>\n",
       "      <td>05cfeb269e606247fe9d2b6082942c59</td>\n",
       "      <td>3ffa4a71a5aa791a8bc3409f5b15b936</td>\n",
       "      <td>stantyan</td>\n",
       "      <td>2015-05-11 17:26:00</td>\n",
       "      <td>2015-05-11 17:55:00</td>\n",
       "      <td>...</td>\n",
       "      <td>12</td>\n",
       "      <td>12</td>\n",
       "      <td>0.69</td>\n",
       "      <td>4.81</td>\n",
       "      <td>0.78</td>\n",
       "      <td>partly-cloudy-day</td>\n",
       "      <td>Mostly Cloudy</td>\n",
       "      <td>none</td>\n",
       "      <td>route restaurant food point_of_interest estab...</td>\n",
       "      <td>Bolshoy Prospekt, 74 Capuletti Stomadeus Agen...</td>\n",
       "    </tr>\n",
       "    <tr>\n",
       "      <th>1</th>\n",
       "      <td>1</td>\n",
       "      <td>May 11, 2015 at 8:12PM</td>\n",
       "      <td>Completed</td>\n",
       "      <td>Uber</td>\n",
       "      <td>518be51d403944a03c47e8d1f2c87311</td>\n",
       "      <td>4a4e248742f9d5ff517c5bbbb48d0e54</td>\n",
       "      <td>3ffa4a71a5aa791a8bc3409f5b15b936</td>\n",
       "      <td>stantyan</td>\n",
       "      <td>2015-05-11 18:46:00</td>\n",
       "      <td>2015-05-11 19:12:00</td>\n",
       "      <td>...</td>\n",
       "      <td>10</td>\n",
       "      <td>10</td>\n",
       "      <td>0.70</td>\n",
       "      <td>6.53</td>\n",
       "      <td>0.66</td>\n",
       "      <td>partly-cloudy-day</td>\n",
       "      <td>Mostly Cloudy</td>\n",
       "      <td>none</td>\n",
       "      <td>locality political point_of_interest establis...</td>\n",
       "      <td>Saint Petersburg Club Music balcony Beauty Sa...</td>\n",
       "    </tr>\n",
       "    <tr>\n",
       "      <th>2</th>\n",
       "      <td>2</td>\n",
       "      <td>May 13, 2015 at 11:38AM</td>\n",
       "      <td>Completed</td>\n",
       "      <td>Uber</td>\n",
       "      <td>6e460cc8a12c3c6568d0d4a67ac58393</td>\n",
       "      <td>cb249a2bd807ca78697b4ed0348c37da</td>\n",
       "      <td>3ffa4a71a5aa791a8bc3409f5b15b936</td>\n",
       "      <td>stantyan</td>\n",
       "      <td>2015-05-13 09:15:00</td>\n",
       "      <td>2015-05-13 10:38:00</td>\n",
       "      <td>...</td>\n",
       "      <td>14</td>\n",
       "      <td>14</td>\n",
       "      <td>0.61</td>\n",
       "      <td>5.25</td>\n",
       "      <td>0.86</td>\n",
       "      <td>partly-cloudy-day</td>\n",
       "      <td>Mostly Cloudy</td>\n",
       "      <td>none</td>\n",
       "      <td>route point_of_interest store establishment r...</td>\n",
       "      <td>Nevsky prospect Sofrino Империя+ Business Por...</td>\n",
       "    </tr>\n",
       "    <tr>\n",
       "      <th>3</th>\n",
       "      <td>3</td>\n",
       "      <td>May 16, 2015 at 1:44AM</td>\n",
       "      <td>Completed</td>\n",
       "      <td>Uber</td>\n",
       "      <td>49613a86a04e6c15d72b51d1a2935d81</td>\n",
       "      <td>d3f73f8151c2e8c34b541f961db7f5fa</td>\n",
       "      <td>3ffa4a71a5aa791a8bc3409f5b15b936</td>\n",
       "      <td>stantyan</td>\n",
       "      <td>2015-05-16 00:24:00</td>\n",
       "      <td>2015-05-16 00:44:00</td>\n",
       "      <td>...</td>\n",
       "      <td>3</td>\n",
       "      <td>3</td>\n",
       "      <td>0.84</td>\n",
       "      <td>0.87</td>\n",
       "      <td>0.56</td>\n",
       "      <td>partly-cloudy-night</td>\n",
       "      <td>Partly Cloudy</td>\n",
       "      <td>none</td>\n",
       "      <td>route lodging point_of_interest establishment...</td>\n",
       "      <td>Voznesensky Ave, 14 Piter Bridges Dostup Na K...</td>\n",
       "    </tr>\n",
       "    <tr>\n",
       "      <th>4</th>\n",
       "      <td>4</td>\n",
       "      <td>May 16, 2015 at 3:18AM</td>\n",
       "      <td>Completed</td>\n",
       "      <td>Uber</td>\n",
       "      <td>9896148fdecdb4c5d977a8691510bdb6</td>\n",
       "      <td>1287d21e6455ee40d4861f6b91c680f4</td>\n",
       "      <td>3ffa4a71a5aa791a8bc3409f5b15b936</td>\n",
       "      <td>stantyan</td>\n",
       "      <td>2015-05-16 01:29:00</td>\n",
       "      <td>2015-05-16 02:18:00</td>\n",
       "      <td>...</td>\n",
       "      <td>3</td>\n",
       "      <td>1</td>\n",
       "      <td>0.90</td>\n",
       "      <td>1.61</td>\n",
       "      <td>0.31</td>\n",
       "      <td>partly-cloudy-night</td>\n",
       "      <td>Partly Cloudy</td>\n",
       "      <td>none</td>\n",
       "      <td>route pet_store point_of_interest store estab...</td>\n",
       "      <td>Ulitsa Yesenina Zoomagazin Stomatologiya \"Gal...</td>\n",
       "    </tr>\n",
       "  </tbody>\n",
       "</table>\n",
       "<p>5 rows × 48 columns</p>\n",
       "</div>"
      ],
      "text/plain": [
       "   Unnamed: 0        trip_completed_at trip_status ride_hailing_app  \\\n",
       "0           0   May 11, 2015 at 6:55PM   Completed             Uber   \n",
       "1           1   May 11, 2015 at 8:12PM   Completed             Uber   \n",
       "2           2  May 13, 2015 at 11:38AM   Completed             Uber   \n",
       "3           3   May 16, 2015 at 1:44AM   Completed             Uber   \n",
       "4           4   May 16, 2015 at 3:18AM   Completed             Uber   \n",
       "\n",
       "                           trip_uid                        driver_uid  \\\n",
       "0  ee89076fd9da9bddf5f096b0ca42f8d5  05cfeb269e606247fe9d2b6082942c59   \n",
       "1  518be51d403944a03c47e8d1f2c87311  4a4e248742f9d5ff517c5bbbb48d0e54   \n",
       "2  6e460cc8a12c3c6568d0d4a67ac58393  cb249a2bd807ca78697b4ed0348c37da   \n",
       "3  49613a86a04e6c15d72b51d1a2935d81  d3f73f8151c2e8c34b541f961db7f5fa   \n",
       "4  9896148fdecdb4c5d977a8691510bdb6  1287d21e6455ee40d4861f6b91c680f4   \n",
       "\n",
       "                          rider_uid  customer      trip_start_time  \\\n",
       "0  3ffa4a71a5aa791a8bc3409f5b15b936  stantyan  2015-05-11 17:26:00   \n",
       "1  3ffa4a71a5aa791a8bc3409f5b15b936  stantyan  2015-05-11 18:46:00   \n",
       "2  3ffa4a71a5aa791a8bc3409f5b15b936  stantyan  2015-05-13 09:15:00   \n",
       "3  3ffa4a71a5aa791a8bc3409f5b15b936  stantyan  2015-05-16 00:24:00   \n",
       "4  3ffa4a71a5aa791a8bc3409f5b15b936  stantyan  2015-05-16 01:29:00   \n",
       "\n",
       "         trip_end_time  ... temperature_value feels_like humidity wind_speed  \\\n",
       "0  2015-05-11 17:55:00  ...                12         12     0.69       4.81   \n",
       "1  2015-05-11 19:12:00  ...                10         10     0.70       6.53   \n",
       "2  2015-05-13 10:38:00  ...                14         14     0.61       5.25   \n",
       "3  2015-05-16 00:44:00  ...                 3          3     0.84       0.87   \n",
       "4  2015-05-16 02:18:00  ...                 3          1     0.90       1.61   \n",
       "\n",
       "   cloudness         weather_main   weather_desc precipitation  \\\n",
       "0       0.78    partly-cloudy-day  Mostly Cloudy          none   \n",
       "1       0.66    partly-cloudy-day  Mostly Cloudy          none   \n",
       "2       0.86    partly-cloudy-day  Mostly Cloudy          none   \n",
       "3       0.56  partly-cloudy-night  Partly Cloudy          none   \n",
       "4       0.31  partly-cloudy-night  Partly Cloudy          none   \n",
       "\n",
       "                                          place_type  \\\n",
       "0   route restaurant food point_of_interest estab...   \n",
       "1   locality political point_of_interest establis...   \n",
       "2   route point_of_interest store establishment r...   \n",
       "3   route lodging point_of_interest establishment...   \n",
       "4   route pet_store point_of_interest store estab...   \n",
       "\n",
       "                                          place_name  \n",
       "0   Bolshoy Prospekt, 74 Capuletti Stomadeus Agen...  \n",
       "1   Saint Petersburg Club Music balcony Beauty Sa...  \n",
       "2   Nevsky prospect Sofrino Империя+ Business Por...  \n",
       "3   Voznesensky Ave, 14 Piter Bridges Dostup Na K...  \n",
       "4   Ulitsa Yesenina Zoomagazin Stomatologiya \"Gal...  \n",
       "\n",
       "[5 rows x 48 columns]"
      ]
     },
     "execution_count": 20,
     "metadata": {},
     "output_type": "execute_result"
    }
   ],
   "source": [
    "import pandas as pd\n",
    "import numpy as np\n",
    "from sklearn.cluster import AgglomerativeClustering,KMeans, AffinityPropagation, SpectralClustering, MeanShift\n",
    "from shapely.geometry import mapping, shape, Polygon, MultiPoint, Point\n",
    "from sklearn.neighbors import kneighbors_graph\n",
    "\n",
    "datas = pd.read_csv(\"../data/resultats_api.csv\")\n",
    "datas.head(5)"
   ]
  },
  {
   "cell_type": "code",
   "execution_count": null,
   "metadata": {},
   "outputs": [],
   "source": []
  },
  {
   "cell_type": "code",
   "execution_count": 27,
   "metadata": {},
   "outputs": [
    {
     "data": {
      "text/plain": [
       "array([['60.03143761', '30.32982593', '2015-05-11 17:26:00'],\n",
       "       ['59.96313143', '30.30765496', '2015-05-11 17:55:00'],\n",
       "       ['59.96301417', '30.30731265', '2015-05-11 18:46:00'],\n",
       "       ...,\n",
       "       ['59.941415', '30.366456300000007', '2018-04-26 17:00:00'],\n",
       "       ['59.941415', '30.366456300000007', '2018-04-27 14:15:00'],\n",
       "       ['59.955692000000006', '30.35657', '2018-04-27 15:05:00']],\n",
       "      dtype='<U32')"
      ]
     },
     "execution_count": 27,
     "metadata": {},
     "output_type": "execute_result"
    }
   ],
   "source": [
    "d = datas[['pickup_lat','pickup_long','dropoff_lat','dropoff_long','trip_start_time','trip_end_time']].values\n",
    "\n",
    "coords=np.empty([0,3])\n",
    "for i in d:\n",
    "    coords= np.append(coords, [[i[0],i[1],i[4]]],axis=0)\n",
    "    coords = np.append(coords, [[i[2],i[3],i[5]]],axis=0)\n",
    "\n",
    "neighb_mtx = coords[:,:2]\n",
    "neighb_mtx = neighb_mtx.astype(np.float64)\n",
    "\n",
    "\n",
    "coords"
   ]
  },
  {
   "cell_type": "code",
   "execution_count": 3,
   "metadata": {},
   "outputs": [],
   "source": [
    "\n",
    "\n",
    "hierarchical = AgglomerativeClustering(n_clusters=20, linkage='single')#,connectivity=neighbors)\n",
    "result = hierarchical.fit_predict(neighb_mtx)\n"
   ]
  },
  {
   "cell_type": "code",
   "execution_count": 4,
   "metadata": {},
   "outputs": [
    {
     "data": {
      "text/plain": [
       "array([['59.96313143', '30.30765496', '2015-05-11 17:55:00', '1'],\n",
       "       ['60.03135115', '30.32949527', '2015-05-11 19:12:00', '1'],\n",
       "       ['59.92428100000001', '30.3875608', '2015-05-13 10:38:00', '1'],\n",
       "       ...,\n",
       "       ['59.91683199999999', '30.450724', '2018-04-26 15:57:00', '1'],\n",
       "       ['59.941415', '30.366456300000007', '2018-04-26 17:00:00', '1'],\n",
       "       ['59.955692000000006', '30.35657', '2018-04-27 15:05:00', '1']],\n",
       "      dtype='<U32')"
      ]
     },
     "execution_count": 4,
     "metadata": {},
     "output_type": "execute_result"
    }
   ],
   "source": [
    "result = result.reshape(result.shape[0], 1)\n",
    "result.shape\n",
    "coords_final = np.append(coords, result, axis=1)\n",
    "coords_final.shape\n",
    "coords_final"
   ]
  },
  {
   "cell_type": "code",
   "execution_count": 5,
   "metadata": {},
   "outputs": [],
   "source": [
    "csv_final = pd.DataFrame(coords_final, columns=['lat','long','trip_time', 'cluster'])\n",
    "csv_final.to_csv(path_or_buf=\"../data/clustering_hierarchique_20c.csv\",header=True, index=True )"
   ]
  },
  {
   "cell_type": "markdown",
   "metadata": {},
   "source": [
    "La methode actuelle ne permet que de faire des approximation à l'echelle du pays, on peut seulement déduire la ville ou le sujet réside de façon assez grossière."
   ]
  },
  {
   "cell_type": "markdown",
   "metadata": {},
   "source": [
    "### Limitation de la zone d'étude sur St petersbourg et ré exécution de l'algorithme de clustering hierarchique"
   ]
  },
  {
   "cell_type": "code",
   "execution_count": 6,
   "metadata": {},
   "outputs": [],
   "source": [
    "top_left = [60.212733, 29.367030]\n",
    "bottom_left =[59.681719, 29.893709]\n",
    "top_right=[60.160548, 30.737993]\n",
    "bottom_right=[59.613360, 30.80276]"
   ]
  },
  {
   "cell_type": "code",
   "execution_count": 7,
   "metadata": {},
   "outputs": [],
   "source": [
    "polygonStPetersb = Polygon([(top_left), (bottom_left), (bottom_right), (top_right)])\n",
    "\n"
   ]
  },
  {
   "cell_type": "code",
   "execution_count": 8,
   "metadata": {},
   "outputs": [
    {
     "data": {
      "text/plain": [
       "array([['60.03143761', '30.32982593', '2015-05-11 17:26:00'],\n",
       "       ['59.96313143', '30.30765496', '2015-05-11 17:55:00'],\n",
       "       ['59.96301417', '30.30731265', '2015-05-11 18:46:00'],\n",
       "       ...,\n",
       "       ['59.941415', '30.366456300000007', '2018-04-26 17:00:00'],\n",
       "       ['59.941415', '30.366456300000007', '2018-04-27 14:15:00'],\n",
       "       ['59.955692000000006', '30.35657', '2018-04-27 15:05:00']],\n",
       "      dtype='<U32')"
      ]
     },
     "execution_count": 8,
     "metadata": {},
     "output_type": "execute_result"
    }
   ],
   "source": [
    "coords_poly = np.empty([0,3])\n",
    "for i in d:\n",
    "    if polygonStPetersb.contains(Point(i[0],i[1])):\n",
    "        coords_poly = np.append(coords_poly,[[i[0],i[1],i[4]]],axis=0 )\n",
    "    if  polygonStPetersb.contains(Point(i[2],i[3])):\n",
    "        coords_poly = np.append(coords_poly,[[i[2],i[3],i[5]]],axis=0 )\n",
    "\n",
    "coords_poly"
   ]
  },
  {
   "cell_type": "code",
   "execution_count": 9,
   "metadata": {},
   "outputs": [],
   "source": [
    "neighbors = kneighbors_graph(coords_poly[:,:2].astype(np.float64), 10,include_self=True, mode='connectivity').astype(np.float64)"
   ]
  },
  {
   "cell_type": "code",
   "execution_count": 10,
   "metadata": {},
   "outputs": [
    {
     "name": "stderr",
     "output_type": "stream",
     "text": [
      "/home/vincent/anaconda3/lib/python3.8/site-packages/sklearn/cluster/_agglomerative.py:500: UserWarning: the number of connected components of the connectivity matrix is 2 > 1. Completing it to avoid stopping the tree early.\n",
      "  connectivity, n_connected_components = _fix_connectivity(\n"
     ]
    }
   ],
   "source": [
    "hierarchical.n_clusters = 15\n",
    "hierarchical.connectivity = neighbors\n",
    "\n",
    "result_polygon = hierarchical.fit_predict(coords_poly[:,:2].astype(np.float64))\n",
    "result_polygon = result_polygon.reshape(result_polygon.shape[0], 1)"
   ]
  },
  {
   "cell_type": "code",
   "execution_count": 11,
   "metadata": {},
   "outputs": [
    {
     "data": {
      "text/plain": [
       "array([['60.03143761', '30.32982593', '2015-05-11 17:26:00', '1'],\n",
       "       ['59.96313143', '30.30765496', '2015-05-11 17:55:00', '1'],\n",
       "       ['59.96301417', '30.30731265', '2015-05-11 18:46:00', '1'],\n",
       "       ...,\n",
       "       ['59.941415', '30.366456300000007', '2018-04-26 17:00:00', '1'],\n",
       "       ['59.941415', '30.366456300000007', '2018-04-27 14:15:00', '1'],\n",
       "       ['59.955692000000006', '30.35657', '2018-04-27 15:05:00', '1']],\n",
       "      dtype='<U32')"
      ]
     },
     "execution_count": 11,
     "metadata": {},
     "output_type": "execute_result"
    }
   ],
   "source": [
    "coords_poly_final = np.append(coords_poly, result_polygon, axis=1)\n",
    "coords_poly_final.shape\n",
    "coords_poly_final"
   ]
  },
  {
   "cell_type": "code",
   "execution_count": 12,
   "metadata": {},
   "outputs": [],
   "source": [
    "\n",
    "csv_final = pd.DataFrame(coords_poly_final, columns=['lat','long','trip_time', 'cluster'])\n",
    "csv_final.to_csv(path_or_buf=\"../data/clustering_polygonLimited_15c.csv\",header=True, index=True )\n"
   ]
  },
  {
   "cell_type": "markdown",
   "metadata": {},
   "source": [
    "### Affinity propagation\n",
    "    Cet algorithme de clustering permet d'ignorer la spécification du nombre de clusters dans les parametres\n",
    "    Il fonctionne sur une méthode de centroides et détermine les centres des clusters qui ont été trouvés; cela pourrait permettre de localiser plus précisément un quartier potentiellement importants et parmi ceux-là le lieu de résidence.\n",
    "    De plus, il est bien adapté aux petits / moyens datasets comme le notre."
   ]
  },
  {
   "cell_type": "code",
   "execution_count": 13,
   "metadata": {},
   "outputs": [],
   "source": [
    "neighb_affinity = kneighbors_graph(coords_poly[:,:2].astype(np.float64), mode=\"distance\", n_neighbors=10)"
   ]
  },
  {
   "cell_type": "code",
   "execution_count": 14,
   "metadata": {},
   "outputs": [
    {
     "data": {
      "text/plain": [
       "array([['60.03143761', '30.32982593', '3'],\n",
       "       ['59.96313143', '30.30765496', '0'],\n",
       "       ['59.96301417', '30.30731265', '0'],\n",
       "       ...,\n",
       "       ['59.941415', '30.366456300000007', '109'],\n",
       "       ['59.941415', '30.366456300000007', '109'],\n",
       "       ['59.955692000000006', '30.35657', '169']], dtype='<U32')"
      ]
     },
     "execution_count": 14,
     "metadata": {},
     "output_type": "execute_result"
    }
   ],
   "source": [
    "affinity_cluster = AffinityPropagation(damping= 0.7,random_state=1 )\n",
    "\n",
    "result_propag=affinity_cluster.fit_predict(neighb_affinity)#coords_poly[:,:2].astype(np.float64))\n",
    "\n",
    "result_propag = result_propag.reshape(result_propag.shape[0], 1)\n",
    "coords_affinity = np.append(coords_poly[:,:2], result_propag, axis=1)\n",
    "coords_affinity"
   ]
  },
  {
   "cell_type": "code",
   "execution_count": null,
   "metadata": {},
   "outputs": [],
   "source": []
  },
  {
   "cell_type": "code",
   "execution_count": 15,
   "metadata": {},
   "outputs": [],
   "source": [
    "csv_affinity = pd.DataFrame(coords_affinity, columns=['lat','long','cluster'])\n",
    "csv_affinity.to_csv(path_or_buf=\"../data/clustering_with_nclusters_pre_defined1.csv\",header=True, index=True )"
   ]
  },
  {
   "cell_type": "markdown",
   "metadata": {},
   "source": [
    "### Spectral Clutering \n",
    "        Ici on teste le clustering spectral notament parce que cet algorithme se sert d'une matrice d'affinité / distance pour effectuer plusieurs fois un clustering KMeans sur des sous-parties du graphe ou de la matrice passé(e) en paramètre"
   ]
  },
  {
   "cell_type": "code",
   "execution_count": 16,
   "metadata": {},
   "outputs": [],
   "source": [
    "spectral = SpectralClustering(n_clusters= 10, random_state=1, affinity='rbf', assign_labels='discretize')\n",
    "result_spect = spectral.fit_predict(coords_poly[:,:2].astype(np.float64))\n",
    "result_spect= result_spect.reshape(result_spect.shape[0],1)\n"
   ]
  },
  {
   "cell_type": "code",
   "execution_count": 17,
   "metadata": {},
   "outputs": [
    {
     "data": {
      "text/plain": [
       "array([['60.03143761', '30.32982593', '2015-05-11 17:26:00', '1'],\n",
       "       ['59.96313143', '30.30765496', '2015-05-11 17:55:00', '9'],\n",
       "       ['59.96301417', '30.30731265', '2015-05-11 18:46:00', '9'],\n",
       "       ...,\n",
       "       ['59.941415', '30.366456300000007', '2018-04-26 17:00:00', '0'],\n",
       "       ['59.941415', '30.366456300000007', '2018-04-27 14:15:00', '0'],\n",
       "       ['59.955692000000006', '30.35657', '2018-04-27 15:05:00', '0']],\n",
       "      dtype='<U32')"
      ]
     },
     "execution_count": 17,
     "metadata": {},
     "output_type": "execute_result"
    }
   ],
   "source": [
    "data_spect = np.hstack((coords_poly, result_spect))\n",
    "data_spect\n"
   ]
  },
  {
   "cell_type": "code",
   "execution_count": 18,
   "metadata": {},
   "outputs": [],
   "source": [
    "csv_spect = pd.DataFrame(data_spect, columns=['lat','long','trip_time', 'cluster'])\n",
    "csv_spect.to_csv(path_or_buf=\"../data/SpectralClustering_10c_out.csv\",header=True, index=True )"
   ]
  },
  {
   "cell_type": "code",
   "execution_count": null,
   "metadata": {},
   "outputs": [],
   "source": []
  },
  {
   "cell_type": "markdown",
   "metadata": {},
   "source": [
    "### MeanShift \n",
    "    Algorithme de clstering basé ur un principe de centroide, ne dépend pas forcément d'une valeur stipulant le nombre de clusters souhaités. Cet algorithme permet de découvrir des clusters dans un jeu de données régulier."
   ]
  },
  {
   "cell_type": "code",
   "execution_count": 25,
   "metadata": {},
   "outputs": [],
   "source": [
    "meanshift = MeanShift(bandwidth=2, max_iter=500, cluster_all=False, min_bin_freq=5)\n",
    "result_shift = meanshift.fit_predict(coords_poly[:,:2].astype(np.float64))\n",
    "\n",
    "result_shift = result_shift.reshape(result_shift.shape[0], 1)"
   ]
  },
  {
   "cell_type": "code",
   "execution_count": 26,
   "metadata": {},
   "outputs": [],
   "source": [
    "datas_meanshift = np.hstack((coords_poly, result_shift))\n",
    "\n",
    "meanshift_df = pd.DataFrame(coords_poly_final, columns=['lat','long','trip_time', 'cluster'])\n",
    "meanshift_df.to_csv(path_or_buf=\"../data/Clustering_MeanShift.csv\",header=True, index=True )"
   ]
  },
  {
   "cell_type": "markdown",
   "metadata": {},
   "source": [
    "### Isolation des plages temporelles \n",
    "\n",
    "Ici on isole les plages de temps dans la journée ou le \"sujet\" est le plus propice à prendre un uber pour partir / rentrer chez lui , cad tard le soir ou les transports ne fonctionnent plus ou bien tôt le matin pour se rendre à l'aeroport par exemple. \n"
   ]
  },
  {
   "cell_type": "markdown",
   "metadata": {},
   "source": [
    "##### Isolation temporelle \n"
   ]
  },
  {
   "cell_type": "code",
   "execution_count": 29,
   "metadata": {},
   "outputs": [
    {
     "data": {
      "text/plain": [
       "(1356, 3)"
      ]
     },
     "execution_count": 29,
     "metadata": {},
     "output_type": "execute_result"
    }
   ],
   "source": [
    "trajet_horaires_soiree= datas[['dropoff_lat', 'dropoff_long', 'trip_end_time']].values\n",
    "trajet_horaires_matin = datas[['pickup_lat','pickup_long', 'trip_start_time']].values\n",
    "horaires = np.vstack((trajet_horaires_soiree, trajet_horaires_matin))\n",
    "trajet_horaires_soiree\n",
    "trajet_horaires_matin.shape\n",
    "horaires.shape"
   ]
  },
  {
   "cell_type": "code",
   "execution_count": 42,
   "metadata": {},
   "outputs": [
    {
     "data": {
      "text/plain": [
       "2"
      ]
     },
     "execution_count": 42,
     "metadata": {},
     "output_type": "execute_result"
    }
   ],
   "source": [
    "def get_horaires(soir, tab):\n",
    "    tab_h=np.ndarray(shape=(0,3))\n",
    "    \n",
    "    for i in tab:\n",
    "        \n",
    "        heure = int(i[-1].split(' ')[-1].split(':')[0])\n",
    "        if polygonStPetersb.contains(Point(i[0],i[1])):\n",
    "            if soir:\n",
    "                if (heure >= 22 or heure <= 6):\n",
    "                    tab_h = np.vstack((tab_h, i))\n",
    "            else:\n",
    "                if heure >= 5 and heure < 10:\n",
    "                    tab_h = np.vstack((tab_h, i))\n",
    "    \n",
    "    return tab_h\n",
    "            \n",
    "\n",
    "trajets = get_horaires(True, horaires)\n",
    "matin = get_horaires(False, trajet_horaires_matin)\n",
    "\n",
    "\n",
    "soiree.ndim"
   ]
  },
  {
   "cell_type": "code",
   "execution_count": 43,
   "metadata": {},
   "outputs": [
    {
     "name": "stdout",
     "output_type": "stream",
     "text": [
      "[[1]\n",
      " [1]\n",
      " [1]\n",
      " [7]\n",
      " [1]\n",
      " [1]\n",
      " [1]\n",
      " [1]\n",
      " [7]\n",
      " [7]\n",
      " [1]\n",
      " [1]\n",
      " [1]\n",
      " [1]\n",
      " [1]\n",
      " [1]\n",
      " [5]\n",
      " [8]\n",
      " [5]\n",
      " [3]\n",
      " [7]\n",
      " [0]\n",
      " [8]\n",
      " [8]\n",
      " [3]\n",
      " [7]\n",
      " [7]\n",
      " [7]\n",
      " [9]\n",
      " [7]\n",
      " [5]\n",
      " [5]\n",
      " [5]\n",
      " [5]\n",
      " [5]\n",
      " [1]\n",
      " [0]\n",
      " [8]\n",
      " [1]\n",
      " [8]\n",
      " [9]\n",
      " [2]\n",
      " [5]\n",
      " [1]\n",
      " [0]\n",
      " [1]\n",
      " [2]\n",
      " [1]\n",
      " [1]\n",
      " [6]\n",
      " [1]\n",
      " [9]\n",
      " [0]\n",
      " [1]\n",
      " [6]\n",
      " [1]\n",
      " [8]\n",
      " [1]\n",
      " [1]\n",
      " [7]\n",
      " [1]\n",
      " [1]\n",
      " [1]\n",
      " [1]\n",
      " [1]\n",
      " [1]\n",
      " [1]\n",
      " [1]\n",
      " [7]\n",
      " [0]\n",
      " [9]\n",
      " [9]\n",
      " [5]\n",
      " [6]\n",
      " [5]\n",
      " [0]\n",
      " [7]\n",
      " [9]\n",
      " [1]\n",
      " [8]\n",
      " [8]\n",
      " [8]\n",
      " [7]\n",
      " [7]\n",
      " [7]\n",
      " [7]\n",
      " [5]\n",
      " [8]\n",
      " [1]\n",
      " [1]\n",
      " [2]\n",
      " [4]\n",
      " [1]\n",
      " [1]\n",
      " [1]\n",
      " [1]\n",
      " [1]\n",
      " [0]\n",
      " [1]\n",
      " [1]\n",
      " [2]\n",
      " [1]\n",
      " [2]\n",
      " [1]]\n"
     ]
    },
    {
     "data": {
      "text/plain": [
       "array([[59.93467988, 30.30848929, '2015-05-16 00:44:00', 1],\n",
       "       [60.0314703, 30.3294021, '2015-05-16 02:18:00', 1],\n",
       "       [60.03133570000001, 30.329517600000006, '2015-05-18 22:08:00', 1],\n",
       "       [59.79990266, 30.27323585, '2015-06-14 06:44:00', 3],\n",
       "       [59.93286, 30.3456956, '2015-06-14 22:19:00', 1],\n",
       "       [59.9277426, 30.3379478, '2015-06-14 23:46:00', 1],\n",
       "       [59.91925500000001, 30.2846216, '2015-06-15 22:52:00', 1],\n",
       "       [59.92764293, 30.33816057, '2015-06-17 05:59:00', 1],\n",
       "       [59.8423166, 30.319145, '2015-07-08 01:16:00', 3],\n",
       "       [59.84233031, 30.31906726, '2015-07-09 01:33:00', 3],\n",
       "       [60.01617182, 30.40927137, '2015-09-16 22:47:00', 1],\n",
       "       [60.01617823, 30.40939246, '2015-09-28 22:49:00', 1],\n",
       "       [60.0161933, 30.4092933, '2015-10-20 06:40:00', 1],\n",
       "       [60.01613255, 30.40924195, '2015-11-28 22:36:00', 1],\n",
       "       [60.0161323, 30.409212100000005, '2016-06-12 23:57:00', 1],\n",
       "       [60.0162533, 30.4092333, '2016-06-13 23:42:00', 1],\n",
       "       [59.9320135, 30.4417715, '2016-07-13 05:35:00', 2],\n",
       "       [59.941415, 30.366456300000007, '2016-11-02 22:46:00', 0],\n",
       "       [59.92546770000001, 30.488632300000006, '2016-11-25 02:55:00', 2],\n",
       "       [59.941415, 30.366456300000007, '2016-11-25 03:47:00', 0],\n",
       "       [59.7995517, 30.273770000000006, '2017-05-24 06:03:00', 3],\n",
       "       [59.941415, 30.366456300000007, '2017-06-07 23:04:00', 0],\n",
       "       [59.9305583, 30.3618117, '2017-06-15 04:09:00', 0],\n",
       "       [59.941415, 30.366456300000007, '2017-06-19 22:14:00', 0],\n",
       "       [59.941415, 30.366456300000007, '2017-08-09 23:01:00', 0],\n",
       "       [59.79995, 30.2742717, '2017-08-17 22:59:00', 3],\n",
       "       [59.79995, 30.2742717, '2017-08-17 22:59:00', 3],\n",
       "       [59.80008670000001, 30.274168300000003, '2017-08-17 22:57:00', 3],\n",
       "       [59.941415, 30.366456300000007, '2017-08-18 00:55:00', 0],\n",
       "       [59.802914, 30.267840000000003, '2017-11-24 22:19:00', 3],\n",
       "       [59.95999499999999, 30.480290000000004, '2017-11-24 23:41:00', 2],\n",
       "       [59.96049920000001, 30.481978700000006, '2017-11-25 00:49:00', 2],\n",
       "       [59.95999499999999, 30.480290000000004, '2017-11-25 00:51:00', 2],\n",
       "       [59.9603917, 30.482185, '2017-11-25 22:17:00', 2],\n",
       "       [60.02874170000001, 30.6361443, '2017-11-25 22:46:00', 2],\n",
       "       [59.92611, 30.341751, '2017-11-27 22:06:00', 1],\n",
       "       [59.941415, 30.366456300000007, '2017-12-02 01:31:00', 0],\n",
       "       [59.941415, 30.366456300000007, '2017-12-14 22:08:00', 0],\n",
       "       [59.961987, 30.40226, '2017-12-22 00:25:00', 2],\n",
       "       [59.941415, 30.366456300000007, '2017-12-22 01:15:00', 0],\n",
       "       [59.941415, 30.366456300000007, '2017-12-26 22:23:00', 0],\n",
       "       [59.941415, 30.366456300000007, '2018-01-14 22:06:00', 0],\n",
       "       [59.94145970000001, 30.3919653, '2018-01-15 05:50:00', 0],\n",
       "       [59.961987, 30.40226, '2018-01-27 04:14:00', 2],\n",
       "       [59.941415, 30.366456300000007, '2018-01-27 04:35:00', 0],\n",
       "       [59.98294, 30.390339, '2018-02-09 00:16:00', 1],\n",
       "       [59.941415, 30.366456300000007, '2018-02-09 00:48:00', 0],\n",
       "       [59.946953, 30.359217, '2018-02-13 22:11:00', 1],\n",
       "       [59.961987, 30.40226, '2018-02-13 22:36:00', 2],\n",
       "       [59.941415, 30.366456300000007, '2018-02-13 23:11:00', 0],\n",
       "       [59.961987, 30.40226, '2018-02-14 04:26:00', 2],\n",
       "       [59.941415, 30.366456300000007, '2018-02-14 06:09:00', 0],\n",
       "       [59.941415, 30.366456300000007, '2018-02-23 22:40:00', 0],\n",
       "       [59.955692000000006, 30.35657, '2018-03-08 04:39:00', 1],\n",
       "       [59.941415, 30.366456300000007, '2018-03-12 23:07:00', 0],\n",
       "       [59.955692000000006, 30.35657, '2018-03-26 05:46:00', 1],\n",
       "       [59.941415, 30.366456300000007, '2018-03-26 23:50:00', 0],\n",
       "       [59.95988306, 30.31115921, '2015-05-16 00:24:00', 1],\n",
       "       [59.9348132, 30.3085533, '2015-05-16 01:29:00', 1],\n",
       "       [59.79990266, 30.27323585, '2015-06-14 05:58:00', 3],\n",
       "       [59.9276078, 30.3382977, '2015-06-14 22:00:00', 1],\n",
       "       [59.9329072, 30.345892300000006, '2015-06-14 23:17:00', 1],\n",
       "       [59.9278933, 30.337745, '2015-06-15 22:32:00', 1],\n",
       "       [59.91879894, 30.28549404, '2015-06-17 05:37:00', 1],\n",
       "       [60.0160933, 30.40966, '2015-07-08 00:31:00', 1],\n",
       "       [60.01616046, 30.40919418, '2015-07-09 00:38:00', 1],\n",
       "       [60.03332199, 30.36669181, '2015-09-16 22:33:00', 1],\n",
       "       [60.0147998, 30.38977797, '2015-09-28 22:40:00', 1],\n",
       "       [59.7987966, 30.2736216, '2015-10-20 05:53:00', 3],\n",
       "       [59.941415, 30.366456300000007, '2016-06-12 23:35:00', 0],\n",
       "       [59.941415, 30.366456300000007, '2016-06-13 23:22:00', 0],\n",
       "       [59.941415, 30.366456300000007, '2016-07-13 05:16:00', 0],\n",
       "       [59.9335704, 30.4367577, '2016-11-02 22:27:00', 2],\n",
       "       [59.941415, 30.366456300000007, '2016-11-25 01:55:00', 0],\n",
       "       [59.92544670000001, 30.488825, '2016-11-25 03:34:00', 2],\n",
       "       [59.941415, 30.366456300000007, '2017-05-24 05:25:00', 0],\n",
       "       [59.79646170000001, 30.2831367, '2017-06-07 22:32:00', 3],\n",
       "       [59.941415, 30.366456300000007, '2017-06-15 03:32:00', 0],\n",
       "       [59.9559267, 30.3119914, '2017-08-09 22:25:00', 1],\n",
       "       [59.941415, 30.366456300000007, '2017-08-17 22:11:00', 0],\n",
       "       [59.941415, 30.366456300000007, '2017-08-17 22:11:00', 0],\n",
       "       [59.941415, 30.366456300000007, '2017-08-17 22:13:00', 0],\n",
       "       [59.795865, 30.2869833, '2017-08-18 00:18:00', 3],\n",
       "       [59.7992, 30.27336, '2017-11-24 23:03:00', 3],\n",
       "       [59.8000195, 30.2743251, '2017-11-25 00:18:00', 3],\n",
       "       [59.8, 30.2738, '2017-11-25 00:17:00', 3],\n",
       "       [59.9559105, 30.4677212, '2017-11-25 22:20:00', 2],\n",
       "       [59.92715, 30.359083, '2017-12-02 01:06:00', 0],\n",
       "       [60.1265, 30.447567, '2017-12-21 23:08:00', 1],\n",
       "       [59.961987, 30.40226, '2017-12-22 00:56:00', 2],\n",
       "       [59.941415, 30.366456300000007, '2018-01-15 05:29:00', 0],\n",
       "       [59.934788, 30.363317, '2018-01-27 03:57:00', 0],\n",
       "       [59.961987, 30.40226, '2018-01-27 04:18:00', 2],\n",
       "       [59.94058199999999, 30.341257, '2018-02-08 23:39:00', 1],\n",
       "       [59.961987, 30.40226, '2018-02-09 00:22:00', 2],\n",
       "       [59.94711, 30.35899, '2018-02-13 22:20:00', 1],\n",
       "       [59.96205500000001, 30.402374, '2018-02-13 22:53:00', 2],\n",
       "       [59.941415, 30.366456300000007, '2018-02-14 04:11:00', 0],\n",
       "       [59.96206, 30.402372, '2018-02-14 05:53:00', 2],\n",
       "       [59.961987, 30.40226, '2018-02-23 22:19:00', 2],\n",
       "       [59.941415, 30.366456300000007, '2018-03-08 04:11:00', 0],\n",
       "       [59.934628, 30.331146, '2018-03-12 22:38:00', 1],\n",
       "       [59.941415, 30.366456300000007, '2018-03-26 05:23:00', 0],\n",
       "       [59.957188, 30.356365000000004, '2018-03-26 23:25:00', 1]],\n",
       "      dtype=object)"
      ]
     },
     "execution_count": 43,
     "metadata": {},
     "output_type": "execute_result"
    }
   ],
   "source": [
    "\n",
    "\n",
    "spectral.n_clusters=4\n",
    "\n",
    "res_trajets = spectral.fit_predict(trajets[:,:2])\n",
    "res_trajets = res_trajets.reshape(res_trajets.shape[0], 1)\n",
    "print(res_trajet)\n",
    "trajets = np.hstack((trajets, res_trajets))\n",
    "trajets"
   ]
  },
  {
   "cell_type": "code",
   "execution_count": 44,
   "metadata": {},
   "outputs": [],
   "source": [
    "\n",
    "\n",
    "dataF = pd.DataFrame(data=trajets, columns=['lat', 'long', 'time', 'cluster'])\n",
    "csv = dataF.to_csv(path_or_buf=\"../data/clustering_soiree_4c.csv\")"
   ]
  },
  {
   "cell_type": "code",
   "execution_count": null,
   "metadata": {},
   "outputs": [],
   "source": []
  }
 ],
 "metadata": {
  "kernelspec": {
   "display_name": "Python 3",
   "language": "python",
   "name": "python3"
  },
  "language_info": {
   "codemirror_mode": {
    "name": "ipython",
    "version": 3
   },
   "file_extension": ".py",
   "mimetype": "text/x-python",
   "name": "python",
   "nbconvert_exporter": "python",
   "pygments_lexer": "ipython3",
   "version": "3.8.5"
  }
 },
 "nbformat": 4,
 "nbformat_minor": 4
}
